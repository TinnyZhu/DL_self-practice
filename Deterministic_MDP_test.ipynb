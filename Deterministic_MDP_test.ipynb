{
 "cells": [
  {
   "cell_type": "code",
   "execution_count": 1,
   "metadata": {},
   "outputs": [],
   "source": [
    "import numpy as np\n",
    "import math\n",
    "from Deterministic_MDP import Motion\n",
    "from Deterministic_MDP import Get_value"
   ]
  },
  {
   "cell_type": "code",
   "execution_count": 2,
   "metadata": {},
   "outputs": [],
   "source": [
    "initial_value=np.zeros([3,4])\n",
    "initial_policy=[]\n",
    "for i in range(len(initial_value)):\n",
    "    initial_policy_row=[]\n",
    "    for j in range(len(initial_value[i])):\n",
    "        initial_policy_row.append([])\n",
    "    initial_policy.append(initial_policy_row)"
   ]
  },
  {
   "cell_type": "code",
   "execution_count": 3,
   "metadata": {},
   "outputs": [],
   "source": [
    "Value_mapping=Get_value(2,1,initial_value,initial_policy,0.9,0.8)"
   ]
  },
  {
   "cell_type": "code",
   "execution_count": 4,
   "metadata": {},
   "outputs": [
    {
     "name": "stdout",
     "output_type": "stream",
     "text": [
      "[[ 0.          0.          0.          0.        ]\n",
      " [ 0.          0.          0.          0.        ]\n",
      " [ 0.         -0.66666667  0.          0.        ]] [[[], [], [], []], [[], [], [], []], [[], 'up', [], []]]\n",
      "[[ 0.          0.          0.          0.        ]\n",
      " [ 0.         -0.04        0.          0.        ]\n",
      " [ 0.         -0.66666667  0.          0.        ]] [[[], [], [], []], [[], 'up', [], []], [[], 'up', [], []]]\n",
      "[[ 0.         -0.66906667  0.          0.        ]\n",
      " [ 0.         -0.04        0.          0.        ]\n",
      " [ 0.         -0.66666667  0.          0.        ]] [[[], 'left', [], []], [[], 'up', [], []], [[], 'up', [], []]]\n",
      "[[-1.37347733 -0.66906667  0.          0.        ]\n",
      " [ 0.         -0.04        0.          0.        ]\n",
      " [ 0.         -0.66666667  0.          0.        ]] [['down', 'left', [], []], [[], 'up', [], []], [[], 'up', [], []]]\n",
      "[[-1.37347733 -0.66906667  0.          0.        ]\n",
      " [-0.75147531 -0.04        0.          0.        ]\n",
      " [ 0.         -0.66666667  0.          0.        ]] [['down', 'left', [], []], ['down', 'up', [], []], [[], 'up', [], []]]\n",
      "[[-1.37347733 -0.66906667  0.          0.        ]\n",
      " [-0.75147531 -0.04        0.          0.        ]\n",
      " [-1.85842185 -0.66666667  0.          0.        ]] [['down', 'left', [], []], ['down', 'up', [], []], ['right', 'up', [], []]]\n",
      "[[-1.37347733 -0.66906667  0.          0.        ]\n",
      " [-0.75147531 -0.04        0.          0.        ]\n",
      " [-1.85842185 -0.82057198  0.          0.        ]] [['down', 'left', [], []], ['down', 'up', [], []], ['right', 'right', [], []]]\n",
      "[[-1.37347733 -0.66906667  0.          0.        ]\n",
      " [-0.75147531 -0.04        0.          0.        ]\n",
      " [-1.85842185 -0.82057198 -0.71590099  0.        ]] [['down', 'left', [], []], ['down', 'up', [], []], ['right', 'right', 'up', []]]\n",
      "[[-1.37347733 -0.66906667  0.          0.        ]\n",
      " [-0.75147531 -0.04       -0.04535406  0.        ]\n",
      " [-1.85842185 -0.82057198 -0.71590099  0.        ]] [['down', 'left', [], []], ['down', 'up', 'up', []], ['right', 'right', 'up', []]]\n",
      "[[-1.37347733 -0.66906667 -0.70953191  0.        ]\n",
      " [-0.75147531 -0.04       -0.04535406  0.        ]\n",
      " [-1.85842185 -0.82057198 -0.71590099  0.        ]] [['down', 'left', 'right', []], ['down', 'up', 'up', []], ['right', 'right', 'up', []]]\n"
     ]
    },
    {
     "data": {
      "text/plain": [
       "(array([[-1.37347733, -0.66906667, -0.70953191,  0.        ],\n",
       "        [-0.75147531, -0.04      , -0.04535406,  0.        ],\n",
       "        [-1.85842185, -0.82057198, -0.71590099,  0.        ]]),\n",
       " [['down', 'left', 'right', []],\n",
       "  ['down', 'up', 'up', []],\n",
       "  ['right', 'right', 'up', []]])"
      ]
     },
     "execution_count": 4,
     "metadata": {},
     "output_type": "execute_result"
    }
   ],
   "source": [
    "Value_mapping.value_map(10)"
   ]
  },
  {
   "cell_type": "code",
   "execution_count": null,
   "metadata": {},
   "outputs": [],
   "source": []
  }
 ],
 "metadata": {
  "kernelspec": {
   "display_name": "Python 3",
   "language": "python",
   "name": "python3"
  },
  "language_info": {
   "codemirror_mode": {
    "name": "ipython",
    "version": 3
   },
   "file_extension": ".py",
   "mimetype": "text/x-python",
   "name": "python",
   "nbconvert_exporter": "python",
   "pygments_lexer": "ipython3",
   "version": "3.7.6"
  }
 },
 "nbformat": 4,
 "nbformat_minor": 4
}
