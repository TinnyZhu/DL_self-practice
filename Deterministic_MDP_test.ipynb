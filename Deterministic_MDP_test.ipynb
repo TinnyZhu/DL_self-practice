{
 "cells": [
  {
   "cell_type": "code",
   "execution_count": 1,
   "metadata": {},
   "outputs": [],
   "source": [
    "import numpy as np\n",
    "import math\n",
    "from Deterministic_MDP import Motion\n",
    "from Deterministic_MDP import Get_value"
   ]
  },
  {
   "cell_type": "code",
   "execution_count": 13,
   "metadata": {},
   "outputs": [],
   "source": [
    "initial_value=np.zeros([5,4])\n",
    "initial_policy=[]\n",
    "for i in range(len(initial_value)):\n",
    "    initial_policy_row=[]\n",
    "    for j in range(len(initial_value[i])):\n",
    "        initial_policy_row.append([])\n",
    "    initial_policy.append(initial_policy_row)"
   ]
  },
  {
   "cell_type": "code",
   "execution_count": 14,
   "metadata": {},
   "outputs": [],
   "source": [
    "Value_mapping=Get_value(initial_value,initial_policy,0.9,0.8)"
   ]
  },
  {
   "cell_type": "code",
   "execution_count": 15,
   "metadata": {},
   "outputs": [],
   "source": [
    "valuemp,policymp=Value_mapping.value_map(100000)"
   ]
  },
  {
   "cell_type": "code",
   "execution_count": 16,
   "metadata": {},
   "outputs": [
    {
     "data": {
      "text/plain": [
       "[['down', 'down', 'down', 'down'],\n",
       " ['right', 'down', 'down', 'left'],\n",
       " ['right', 'right', 'left', 'left'],\n",
       " ['right', 'up', 'up', 'left'],\n",
       " ['right', 'up', 'up', 'up']]"
      ]
     },
     "execution_count": 16,
     "metadata": {},
     "output_type": "execute_result"
    }
   ],
   "source": [
    "policymp"
   ]
  },
  {
   "cell_type": "code",
   "execution_count": 17,
   "metadata": {},
   "outputs": [
    {
     "data": {
      "text/plain": [
       "array([[-1.88484882, -0.89269239, -0.90451368, -1.85350493],\n",
       "       [-0.71191858, -0.30309242, -0.2905426 , -0.66942289],\n",
       "       [-0.71178987, -0.27916302, -0.27811296, -0.70735276],\n",
       "       [-0.7493649 , -0.30047914, -0.28736442, -0.71150783],\n",
       "       [-1.37574255, -0.70682035, -0.88923732, -1.8560238 ]])"
      ]
     },
     "execution_count": 17,
     "metadata": {},
     "output_type": "execute_result"
    }
   ],
   "source": [
    "valuemp"
   ]
  },
  {
   "cell_type": "code",
   "execution_count": null,
   "metadata": {},
   "outputs": [],
   "source": []
  }
 ],
 "metadata": {
  "kernelspec": {
   "display_name": "Python 3",
   "language": "python",
   "name": "python3"
  },
  "language_info": {
   "codemirror_mode": {
    "name": "ipython",
    "version": 3
   },
   "file_extension": ".py",
   "mimetype": "text/x-python",
   "name": "python",
   "nbconvert_exporter": "python",
   "pygments_lexer": "ipython3",
   "version": "3.7.6"
  }
 },
 "nbformat": 4,
 "nbformat_minor": 4
}
