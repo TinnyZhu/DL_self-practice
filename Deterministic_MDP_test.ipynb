{
 "cells": [
  {
   "cell_type": "code",
   "execution_count": 1,
   "metadata": {},
   "outputs": [],
   "source": [
    "import numpy as np\n",
    "import math\n",
    "from Deterministic_MDP import Motion"
   ]
  },
  {
   "cell_type": "code",
   "execution_count": 2,
   "metadata": {},
   "outputs": [],
   "source": [
    "initial_value=np.zeros([3,4])\n",
    "initial_policy=[]\n",
    "for i in range(len(initial_value)):\n",
    "    initial_policy_row=[]\n",
    "    for j in range(len(initial_value[i])):\n",
    "        initial_policy_row.append([])\n",
    "    initial_policy.append(initial_policy_row)"
   ]
  },
  {
   "cell_type": "code",
   "execution_count": 3,
   "metadata": {},
   "outputs": [
    {
     "data": {
      "text/plain": [
       "[[[], [], [], []], [[], [], [], []], [[], [], [], []]]"
      ]
     },
     "execution_count": 3,
     "metadata": {},
     "output_type": "execute_result"
    }
   ],
   "source": [
    "initial_policy"
   ]
  },
  {
   "cell_type": "code",
   "execution_count": 4,
   "metadata": {},
   "outputs": [],
   "source": [
    "def step_optimization(start_row,start_column,value_map,discount,dp):\n",
    "    \n",
    "    udp=(1-dp)/3\n",
    "    \n",
    "    Step_motion=Motion(start_row,start_column,value_map,discount)\n",
    "    upvalue,upnew=Step_motion.up_value()\n",
    "    \n",
    "    Step_motion=Motion(start_row,start_column,value_map,discount)\n",
    "    downvalue,downnew=Step_motion.down_value()\n",
    "    \n",
    "    Step_motion=Motion(start_row,start_column,value_map,discount)\n",
    "    leftvalue,leftnew=Step_motion.left_value()\n",
    "    \n",
    "    Step_motion=Motion(start_row,start_column,value_map,discount)\n",
    "    rightvalue,rightnew=Step_motion.right_value()\n",
    "    \n",
    "    policy_value={'up':upvalue,'down':downvalue,'left':leftvalue,'right':rightvalue}\n",
    "    policy_new_input={'up':upnew,'down':downnew,'left':leftnew,'right':rightnew}\n",
    "    action_value={}\n",
    "    \n",
    "    \n",
    "    for a in policy_value.keys():\n",
    "        d_value=0\n",
    "        for b in policy_value.keys():\n",
    "            if b==a:\n",
    "                d_value=d_value+dp*policy_value[b]\n",
    "            else:\n",
    "                d_value=d_value+udp*policy_value[b]\n",
    "        action_value.update({a:d_value})\n",
    "    \n",
    "    opt_action=max(action_value)\n",
    "    return action_value,policy_new_input"
   ]
  },
  {
   "cell_type": "code",
   "execution_count": 5,
   "metadata": {},
   "outputs": [],
   "source": [
    "def value_map(start_row,start_column,initial_value,initial_policy,discount,dp,iteration):\n",
    "    k=0\n",
    "    while k<iteration:\n",
    "        step_value,step_policy=step_optimization(start_row,start_column,initial_value,discount,dp)\n",
    "        max_value=max(step_value.values())\n",
    "        initial_value[start_row][start_column]=max_value\n",
    "        opt_action={}\n",
    "        for key in step_value.keys():\n",
    "            if step_value.get(key)==max_value:\n",
    "                start=step_policy.get(key)\n",
    "                initial_policy[start_row][start_column]=key\n",
    "                break\n",
    "        start_row=start['row']\n",
    "        start_column=start['column']\n",
    "        k+=1\n",
    "    value=initial_value\n",
    "    policy=initial_policy\n",
    "    return value,policy"
   ]
  },
  {
   "cell_type": "code",
   "execution_count": null,
   "metadata": {},
   "outputs": [],
   "source": [
    "Final_value,Final_policy=value_map(2,3,initial_value,initial_policy,0.9,0.75,1000000)"
   ]
  },
  {
   "cell_type": "code",
   "execution_count": null,
   "metadata": {},
   "outputs": [],
   "source": [
    "Final_value"
   ]
  },
  {
   "cell_type": "code",
   "execution_count": null,
   "metadata": {},
   "outputs": [],
   "source": [
    "Final_policy"
   ]
  },
  {
   "cell_type": "code",
   "execution_count": null,
   "metadata": {},
   "outputs": [],
   "source": [
    "xx=np.arange(0,3,1)\n",
    "yy=np.arange(0,4,1)\n",
    "import matplotlib.pyplot as plt\n",
    "from mpl_toolkits.mplot3d import Axes3D\n",
    "fig = plt.figure()\n",
    "ax=fig.gca(projection='3d')\n",
    "my,mx=np.meshgrid(yy,xx)\n",
    "ax.plot_surface(mx,my,Final_value)"
   ]
  },
  {
   "cell_type": "code",
   "execution_count": null,
   "metadata": {},
   "outputs": [],
   "source": []
  }
 ],
 "metadata": {
  "kernelspec": {
   "display_name": "Python 3",
   "language": "python",
   "name": "python3"
  },
  "language_info": {
   "codemirror_mode": {
    "name": "ipython",
    "version": 3
   },
   "file_extension": ".py",
   "mimetype": "text/x-python",
   "name": "python",
   "nbconvert_exporter": "python",
   "pygments_lexer": "ipython3",
   "version": "3.7.6"
  }
 },
 "nbformat": 4,
 "nbformat_minor": 4
}
