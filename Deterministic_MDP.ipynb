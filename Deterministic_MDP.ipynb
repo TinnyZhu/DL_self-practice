{
 "cells": [
  {
   "cell_type": "code",
   "execution_count": 7,
   "metadata": {},
   "outputs": [
    {
     "data": {
      "text/plain": [
       "1.7320508075688772"
      ]
     },
     "execution_count": 7,
     "metadata": {},
     "output_type": "execute_result"
    }
   ],
   "source": [
    "math.sqrt(3)"
   ]
  },
  {
   "cell_type": "code",
   "execution_count": 5,
   "metadata": {},
   "outputs": [],
   "source": [
    "import numpy as np\n",
    "import math"
   ]
  },
  {
   "cell_type": "code",
   "execution_count": 8,
   "metadata": {},
   "outputs": [],
   "source": [
    "value=np.zeros([8,10])\n",
    "value[4][5]=100"
   ]
  },
  {
   "cell_type": "code",
   "execution_count": 9,
   "metadata": {},
   "outputs": [],
   "source": [
    "discount=0.8\n",
    "a=['w','a','s','d']"
   ]
  },
  {
   "cell_type": "code",
   "execution_count": null,
   "metadata": {},
   "outputs": [],
   "source": [
    "start_row=0\n",
    "start_column=0\n",
    "update=100\n",
    "diff=np.abs(value[start_row][start_column]-update)\n",
    "while diff>0.001:\n",
    "    vv=[]\n",
    "    for action in a:\n",
    "        if action=='w':\n",
    "            row=start_row-1\n",
    "            column=start_column\n",
    "            if row<0:\n",
    "                rewards=-10\n",
    "                row=start_row\n",
    "            else:\n",
    "                rewards=0\n",
    "            vv.append(rewards+discount*value[row][column])\n",
    "        elif action=='s':\n",
    "            row=start_row+1\n",
    "            column=start_column\n",
    "            if row>=8:\n",
    "                rewards=-10\n",
    "                row=start_row\n",
    "            else:\n",
    "                rewards=0\n",
    "            vv.append(rewards+discount*value[row][column])\n",
    "        elif action=='a':\n",
    "            column=start_column-1\n",
    "            row=start_row\n",
    "            if column<0:\n",
    "                rewards=-10\n",
    "                column=start_column\n",
    "            else:\n",
    "                rewards=0\n",
    "            vv.append(rewards+discount*value[row][column])\n",
    "        elif action=='d':\n",
    "            column=start_column+1\n",
    "            row=start_row\n",
    "            if column>=10:\n",
    "                rewards=-10\n",
    "                row=start_row\n",
    "            else:\n",
    "                rewards=0\n",
    "            vv.append(rewards+discount*value[row][column])\n",
    "        value[start_row][start_column]=np.max(vv)"
   ]
  },
  {
   "cell_type": "code",
   "execution_count": 15,
   "metadata": {},
   "outputs": [
    {
     "name": "stdout",
     "output_type": "stream",
     "text": [
      "[[  0.   0.   0.   0.   0.   0.   0.   0.   0.   0.]\n",
      " [  0.   0.   0.   0.   0.   0.   0.   0.   0.   0.]\n",
      " [  0.   0.   0.   0.   0.   0.   0.   0.   0.   0.]\n",
      " [  0.   0.   0.   0.   0.  80.   0.   0.   0.   0.]\n",
      " [  0.   0.   0.   0.  80. 100.   0.   0.   0.   0.]\n",
      " [  0.   0.   0.   0.   0.   0.   0.   0.   0.   0.]\n",
      " [  0.   0.   0.   0.   0.   0.   0.   0.   0.   0.]\n",
      " [  0.   0.   0.   0.   0.   0.   0.   0.   0.   0.]] [0.0, 0.0, 80.0, 0.0]\n"
     ]
    }
   ],
   "source": [
    "start_row=3\n",
    "start_column=5\n",
    "update=100\n",
    "diff=np.abs(value[start_row][start_column]-update)\n",
    "vv=[]\n",
    "for action in a:\n",
    "    if action=='w':\n",
    "        row=start_row-1\n",
    "        column=start_column\n",
    "        if row<0:\n",
    "            rewards=-10\n",
    "            row=start_row\n",
    "        else:\n",
    "            rewards=0\n",
    "        vv.append(rewards+discount*value[row][column])\n",
    "    elif action=='s':\n",
    "        row=start_row+1\n",
    "        column=start_column\n",
    "        if row>=8:\n",
    "            rewards=-10\n",
    "            row=start_row\n",
    "        else:\n",
    "            rewards=0\n",
    "        vv.append(rewards+discount*value[row][column])\n",
    "    elif action=='a':\n",
    "        column=start_column-1\n",
    "        row=start_row\n",
    "        if column<0:\n",
    "            rewards=-10\n",
    "            column=start_column\n",
    "        else:\n",
    "            rewards=0\n",
    "        vv.append(rewards+discount*value[row][column])\n",
    "    elif action=='d':\n",
    "        column=start_column+1\n",
    "        row=start_row\n",
    "        if column>=10:\n",
    "            rewards=-10\n",
    "            row=start_row\n",
    "        else:\n",
    "            rewards=0\n",
    "        vv.append(rewards+discount*value[row][column])\n",
    "    value[start_row][start_column]=np.max(vv)\n",
    "    \n",
    "print(value,vv)"
   ]
  },
  {
   "cell_type": "code",
   "execution_count": null,
   "metadata": {},
   "outputs": [],
   "source": [
    "for i in range(8):\n",
    "    for j in range(10):\n",
    "        if a=='w':\n",
    "            i_new=i-1\n",
    "            if i_new<0:\n",
    "                "
   ]
  }
 ],
 "metadata": {
  "kernelspec": {
   "display_name": "Python 3",
   "language": "python",
   "name": "python3"
  },
  "language_info": {
   "codemirror_mode": {
    "name": "ipython",
    "version": 3
   },
   "file_extension": ".py",
   "mimetype": "text/x-python",
   "name": "python",
   "nbconvert_exporter": "python",
   "pygments_lexer": "ipython3",
   "version": "3.7.6"
  }
 },
 "nbformat": 4,
 "nbformat_minor": 4
}
